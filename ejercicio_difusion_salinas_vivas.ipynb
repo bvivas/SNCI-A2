{
 "cells": [
  {
   "attachments": {},
   "cell_type": "markdown",
   "metadata": {},
   "source": [
    "# EJERCICIO DE DIFUSIÓN DE INFORMACIÓN\n",
    "## Redes Sociales, Colaboración en Red\n",
    "\n",
    "**Autores:**  \n",
    "Martín Salinas Antón - martin.salinas@estudiante.uam.es  \n",
    "Belén Vivas García - belen.vivas@estudiante.uam.es"
   ]
  },
  {
   "attachments": {},
   "cell_type": "markdown",
   "metadata": {},
   "source": [
    "En esta práctica intentaremos buscar otra forma de decidir cuáles son los nodos (personajes) más importantes y que más influencia tienen sobre la red.  \n",
    "  \n",
    "Las medidas de centralidad son rápidas de calcular y los resultados suelen ser bastante correctos, pero están más orientadas al número de nodos que haya o el número de conexiones entre ellos, y tal vez dejen atrás otros factores y no sean tan efectivas a la hora de estimar cuáles son los nodos que difunden mejor la información.  \n",
    "  \n",
    "Para la difusión de la información, es decir, encontrar los personajes que mejor puedan propagar la información, posiblemente sea mejor utilizar algoritmos de **cascada** que tengan en cuenta las **probabilidades de activación** de los nodos en sus conexiones con otros nodos. Por eso, para esta práctica implementaremos el algoritmo codicioso para maximizar la influencia de la red, y ver cuáles son los nodos que, activándolos desde un principio, puedan maximizar esta influencia. Estos nodos serán la **semilla**.  \n",
    "  \n",
    "La difusión de la información mediante este método tiene un inconveniente, y es el tiempo de ejecución, el cual puede ser bastante alto dependiendo del presupuesto (k) que introduzcamos. No existe algoritmo óptimo, ya que se trata de un problema NP-hard. También, al utilizar el algoritmo codicioso, podemos obtener, al menos, el 63% del valor óptimo, es decir, que no es tan estable como las medidas de centralidad."
   ]
  },
  {
   "cell_type": "code",
   "execution_count": 1,
   "metadata": {},
   "outputs": [],
   "source": [
    "import networkx as nx\n",
    "import random\n",
    "import numpy as np\n",
    "import time"
   ]
  },
  {
   "attachments": {},
   "cell_type": "markdown",
   "metadata": {},
   "source": [
    "### Lectura de Datos"
   ]
  },
  {
   "attachments": {},
   "cell_type": "markdown",
   "metadata": {},
   "source": [
    "En primer lugar, leemos el grafo con NetworkX."
   ]
  },
  {
   "cell_type": "code",
   "execution_count": 2,
   "metadata": {},
   "outputs": [],
   "source": [
    "G = nx.read_graphml('data/juegoDtronos.graphml')"
   ]
  },
  {
   "attachments": {},
   "cell_type": "markdown",
   "metadata": {},
   "source": [
    "### Normalización de Pesos"
   ]
  },
  {
   "attachments": {},
   "cell_type": "markdown",
   "metadata": {},
   "source": [
    "El primer paso será normalizar los pesos de los vértices del grafo entre 0 y 1 para que el algoritmo los tome como probabilidades. Estas serán las probabilidades de activación de los nodos."
   ]
  },
  {
   "cell_type": "code",
   "execution_count": 3,
   "metadata": {},
   "outputs": [],
   "source": [
    "# Normalize weights into probabilities\n",
    "weights = []\n",
    "for edge in G.edges(data=True):\n",
    "    # Get weight from graph and add it to the weight list\n",
    "    weight = edge[2]['weight']\n",
    "    weights.append(weight)\n",
    "\n",
    "normalized_weights = []\n",
    "# Get the maximum weight\n",
    "max_weight = max(weights)\n",
    "for w in weights:\n",
    "    # Divide each weight by the maximum to normalize between 0 and 1\n",
    "    w /= max_weight\n",
    "    normalized_weights.append(w)\n",
    "\n",
    "# Get a copy of the graph\n",
    "G_norm = G\n",
    "# Modify the weights\n",
    "i = 0\n",
    "for edge in G_norm.edges(data=True):\n",
    "    edge[2]['weight'] = normalized_weights[i]\n",
    "    i += 1"
   ]
  },
  {
   "attachments": {},
   "cell_type": "markdown",
   "metadata": {},
   "source": [
    "*Nota: no hacemos la conversión explícita a grafo no dirigido ya que, en las ejecuciones que hemos realizado abajo, los resultados salían iguales con ambos tipos de grafo.*"
   ]
  },
  {
   "attachments": {},
   "cell_type": "markdown",
   "metadata": {},
   "source": [
    "### Algoritmo Codicioso y de Cascada"
   ]
  },
  {
   "attachments": {},
   "cell_type": "markdown",
   "metadata": {},
   "source": [
    "Implementamos los algoritmos necesarios para maximizar la influencia de la red. La influencia de la red se maximiza seleccionando un grupo de nodos, a los que llamaremos 'semilla', los cuales tienen una influencia suficiente para maximizar la propagación de información.  \n",
    "  \n",
    "La aproximación codiciosa (o greedy) selecciona los nodos con mayor influencia en función de la cantidad de vecinos, utilizando una función f que, en nuestro caso, selecciona el número de nodos que serán finalmente activados teniendo en cuenta los pesos (ahora probabilidades) de los vértices de los nodos. Esta función f devolverá el número de nodos que se activarán en cada iteración."
   ]
  },
  {
   "cell_type": "code",
   "execution_count": 4,
   "metadata": {},
   "outputs": [],
   "source": [
    "# Maximizing the spread of cascades - greedy algorithm\n",
    "def max_spread_cascades_greedy(G, k):\n",
    "\n",
    "    # Set of initially activated nodes\n",
    "    S = set()\n",
    "\n",
    "    # While i =/= k\n",
    "    for _ in range(k):\n",
    "        v = None\n",
    "        max_f = -1\n",
    "\n",
    "        for node in G.nodes():\n",
    "            if node not in S:\n",
    "                # Cascade function taking S U {v}\n",
    "                f = cascade(G, S.union({node}))\n",
    "\n",
    "                # Update maximized f\n",
    "                if f > max_f:\n",
    "                    v = node\n",
    "                    max_f = f\n",
    "\n",
    "        # Add chosen node to the set\n",
    "        # S U {v}\n",
    "        S.add(v)\n",
    "\n",
    "    return S\n",
    "\n",
    "\n",
    "# Gets the number of ultimately activated nodes\n",
    "def cascade(G, S):\n",
    "\n",
    "    # Set of activated nodes\n",
    "    A = S\n",
    "    # Set of neighbors of nodes in S\n",
    "    activable_neighbors = set()\n",
    "\n",
    "    # Add neighbors to the set\n",
    "    for node in S:\n",
    "        activable_neighbors.update(G.neighbors(node))\n",
    "\n",
    "    # While there are still activable neighbors\n",
    "    while activable_neighbors:\n",
    "        # Choose random neighbor\n",
    "        node = random.choice(list(activable_neighbors))\n",
    "\n",
    "        # Activation probability of the node\n",
    "        probability = 1.0\n",
    "        for n in G.neighbors(node):\n",
    "            if n not in A:\n",
    "                if n not in activable_neighbors:\n",
    "                    # Take the node weight (now a probability)\n",
    "                    weight = G[node][n]['weight']\n",
    "                    probability *= (1 - weight)\n",
    "\n",
    "        # Activation\n",
    "        if np.random.rand() < probability:\n",
    "            # Add activated node\n",
    "            A.add(node)\n",
    "            # Add neighbors of activated node\n",
    "            for n in G.neighbors(node):\n",
    "                if n not in A:\n",
    "                    activable_neighbors.add(n)\n",
    "\n",
    "        # Update neighbors\n",
    "        activable_neighbors.remove(node)\n",
    "\n",
    "    return len(A)"
   ]
  },
  {
   "attachments": {},
   "cell_type": "markdown",
   "metadata": {},
   "source": [
    "Establecemos k (budget) y ejecutamos el algoritmo para obtener la semilla.  \n",
    "  \n",
    "Realizaremos varias ejecuciones variando k para ver los resultados obtenidos y, además, mediremos el tiempo de cada ejecución para tener una noción de lo costoso que es este método."
   ]
  },
  {
   "cell_type": "code",
   "execution_count": 5,
   "metadata": {},
   "outputs": [],
   "source": [
    "# Print results for each execution\n",
    "def print_results(seed, k, time):\n",
    "    print('Budget (k) = {}\\n------------------'.format(k))\n",
    "    for s in seed:\n",
    "        print(s)\n",
    "    print('-------------------\\nExecution time: {:.2f}s'.format(time))"
   ]
  },
  {
   "cell_type": "code",
   "execution_count": 6,
   "metadata": {},
   "outputs": [
    {
     "name": "stdout",
     "output_type": "stream",
     "text": [
      "Budget (k) = 3\n",
      "------------------\n",
      "Jalabhar-Xho\n",
      "Addam-Marbrand\n",
      "Cersei-Lannister\n",
      "-------------------\n",
      "Execution time: 9.58s\n"
     ]
    }
   ],
   "source": [
    "# Budget: 3\n",
    "k = 3\n",
    "start_time = time.time()\n",
    "seed = max_spread_cascades_greedy(G_norm, k)\n",
    "end_time = time.time()\n",
    "print_results(seed, k, end_time - start_time)\n"
   ]
  },
  {
   "cell_type": "code",
   "execution_count": 7,
   "metadata": {},
   "outputs": [
    {
     "name": "stdout",
     "output_type": "stream",
     "text": [
      "Budget (k) = 8\n",
      "------------------\n",
      "Brynden-Tully\n",
      "Gyles-Rosby\n",
      "Jalabhar-Xho\n",
      "Joffrey-Baratheon\n",
      "Cersei-Lannister\n",
      "Oberyn-Martell\n",
      "Jaime-Lannister\n",
      "Addam-Marbrand\n",
      "-------------------\n",
      "Execution time: 27.16s\n"
     ]
    }
   ],
   "source": [
    "# Budget: 8\n",
    "k = 8\n",
    "start_time = time.time()\n",
    "seed = max_spread_cascades_greedy(G_norm, k)\n",
    "end_time = time.time()\n",
    "print_results(seed, k, end_time - start_time)"
   ]
  },
  {
   "cell_type": "code",
   "execution_count": 8,
   "metadata": {},
   "outputs": [
    {
     "name": "stdout",
     "output_type": "stream",
     "text": [
      "Budget (k) = 15\n",
      "------------------\n",
      "Robb-Stark\n",
      "Varys\n",
      "Tywin-Lannister\n",
      "Kevan-Lannister\n",
      "Lyle-Crakehall\n",
      "Brynden-Tully\n",
      "Gyles-Rosby\n",
      "Jalabhar-Xho\n",
      "Tyrion-Lannister\n",
      "Joffrey-Baratheon\n",
      "Cersei-Lannister\n",
      "Oberyn-Martell\n",
      "Catelyn-Stark\n",
      "Jaime-Lannister\n",
      "Addam-Marbrand\n",
      "-------------------\n",
      "Execution time: 52.27s\n"
     ]
    }
   ],
   "source": [
    "# Budget: 15\n",
    "k = 15\n",
    "start_time = time.time()\n",
    "seed = max_spread_cascades_greedy(G_norm, k)\n",
    "end_time = time.time()\n",
    "print_results(seed, k, end_time - start_time)"
   ]
  },
  {
   "cell_type": "code",
   "execution_count": 9,
   "metadata": {},
   "outputs": [
    {
     "name": "stdout",
     "output_type": "stream",
     "text": [
      "Budget (k) = 20\n",
      "------------------\n",
      "Tywin-Lannister\n",
      "Theon-Greyjoy\n",
      "Cersei-Lannister\n",
      "Catelyn-Stark\n",
      "Varys\n",
      "Tyrion-Lannister\n",
      "Robb-Stark\n",
      "Brynden-Tully\n",
      "Rickard-Karstark\n",
      "Arya-Stark\n",
      "Oberyn-Martell\n",
      "Jaime-Lannister\n",
      "Edmure-Tully\n",
      "Walder-Frey\n",
      "Kevan-Lannister\n",
      "Lyle-Crakehall\n",
      "Gyles-Rosby\n",
      "Joffrey-Baratheon\n",
      "Jalabhar-Xho\n",
      "Addam-Marbrand\n",
      "-------------------\n",
      "Execution time: 70.27s\n"
     ]
    }
   ],
   "source": [
    "# Budget: 20\n",
    "k = 20\n",
    "start_time = time.time()\n",
    "seed = max_spread_cascades_greedy(G_norm, k)\n",
    "end_time = time.time()\n",
    "print_results(seed, k, end_time - start_time)"
   ]
  },
  {
   "attachments": {},
   "cell_type": "markdown",
   "metadata": {},
   "source": [
    "En cada ejecución obtenemos una semilla del tamaño del presupuesto establecido.  \n",
    "  \n",
    "Con k=3, la semilla obtenida no corresponde a ningún nodo influenciable obtenido con las medidas de centralidad, por lo que subiremos el presupuesto. El tiempo de ejecución es, además, relativamente bajo, de 9.58s. Es visiblemente más costoso que las medidas de centralidad, y no tiene mucha efectividad.  \n",
    "  \n",
    "Con k=8, ya encontramos nodos más influyentes como Joffrey Baratheon, Cersei Lannister o Jaime Lannister. Tarda más en ejecutarse, 27.16s.  \n",
    "  \n",
    "Probando con k=15, ya vemos resultados más \"esperables\". Es lógico, teniendo en cuenta que el grafo es muy grande, por lo que necesitaremos un presupuesto relativamente grande. Encontramos nodos que ya encontrábamos con las medidas de centralidad, y nodos que, en la serie, se consideran bastante influyentes y grandes difusores de información, como Varys, Tywin Lannister en las primeras temporadas, Tyrion Lannister u Oberyn Martell. Tarda 52.27s en ejecutarse, empezando a ser ya un tiempo considerable.  \n",
    "  \n",
    "Finalmente, con k=20 obtenemos una semilla de gran tamaño, pero no se añaden nodos demasiado influyentes a los que ya había con un presupuesto menor, y tarda 70.27s. Probar con más presupuesto dejaría de ser efectivo y subiría demasiado el tiempo de ejecución.  \n",
    "  \n",
    "Por tanto, **k=15** sería una semilla buena, obteniendo los personajes que maximizan la influencia de la red. No todos los personajes son los mismos que los obtenidos con medidas de centralidad como de grado o de vector propio, pero este método considera otros factores, como las probabilidades y, además, al ser un algoritmo codicioso, no devuelve resultados ideales. Aún así, nos parecen resultados lo suficientemente buenos para la iniciación de la difusión de información, porque hay personajes muy importantes pero, tal vez, en otros aspectos, y no en este en concreto.  \n",
    "  \n",
    "Los personajes que más coinciden con los obtenidos en las medidas de centralidad serían:  \n",
    "- Tyrion Lannister\n",
    "- Jaime Lannister\n",
    "- Cersei Lannister\n",
    "    \n",
    "Por tanto, estos personajes serían, además de influyentes en otros aspectos, buenos difusores de información."
   ]
  }
 ],
 "metadata": {
  "kernelspec": {
   "display_name": "Python 3",
   "language": "python",
   "name": "python3"
  },
  "language_info": {
   "codemirror_mode": {
    "name": "ipython",
    "version": 3
   },
   "file_extension": ".py",
   "mimetype": "text/x-python",
   "name": "python",
   "nbconvert_exporter": "python",
   "pygments_lexer": "ipython3",
   "version": "3.8.10"
  },
  "orig_nbformat": 4
 },
 "nbformat": 4,
 "nbformat_minor": 2
}
