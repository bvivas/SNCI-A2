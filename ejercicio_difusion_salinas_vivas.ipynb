{
 "cells": [
  {
   "attachments": {},
   "cell_type": "markdown",
   "metadata": {},
   "source": [
    "# EJERCICIO DE DIFUSIÓN DE INFORMACIÓN\n",
    "## Redes Sociales, Colaboración en Red\n",
    "\n",
    "**Autores:**  \n",
    "Martín Salinas Antón - martin.salinas@estudiante.uam.es  \n",
    "Belén Vivas García - belen.vivas@estudiante.uam.es"
   ]
  },
  {
   "cell_type": "code",
   "execution_count": 1,
   "metadata": {},
   "outputs": [],
   "source": [
    "import networkx as nx\n",
    "import matplotlib.pyplot as plt"
   ]
  },
  {
   "attachments": {},
   "cell_type": "markdown",
   "metadata": {},
   "source": [
    "### Lectura de Datos"
   ]
  },
  {
   "cell_type": "code",
   "execution_count": 2,
   "metadata": {},
   "outputs": [],
   "source": [
    "G = nx.read_graphml('data/juegoDtronos.graphml')"
   ]
  },
  {
   "cell_type": "code",
   "execution_count": 3,
   "metadata": {},
   "outputs": [],
   "source": [
    "# Normalize weights into probabilities\n",
    "weights = []\n",
    "for edge in G.edges(data=True):\n",
    "    # Get weight from graph and add it to the weight list\n",
    "    weight = edge[2]['weight']\n",
    "    weights.append(weight)\n",
    "\n",
    "normalized_weights = []\n",
    "# Get the maximum weight\n",
    "max_weight = max(weights)\n",
    "for w in weights:\n",
    "    # Divide each weight by the maximum to normalize between 0 and 1\n",
    "    w /= max_weight\n",
    "    normalized_weights.append(w)\n",
    "\n",
    "# Get a copy of the graph\n",
    "G_norm = G\n",
    "# Modify the weights\n",
    "i = 0\n",
    "for edge in G_norm.edges(data=True):\n",
    "    edge[2]['weight'] = normalized_weights[i]\n",
    "    i += 1\n",
    "\n",
    "# Turn the graph into undirected\n",
    "# G_u = nx.to_undirected(G_norm)"
   ]
  },
  {
   "cell_type": "code",
   "execution_count": null,
   "metadata": {},
   "outputs": [],
   "source": [
    "# Max spread cascades - greedy algorithm\n",
    "def max_spread_cascades_greedy(G, k):\n",
    "    # Set of initially activated nodes\n",
    "    s = set()\n",
    "\n",
    "\n",
    "seeds = max_spread_cascades_greedy(G_norm, 5)\n",
    "print(seeds)"
   ]
  }
 ],
 "metadata": {
  "kernelspec": {
   "display_name": "Python 3",
   "language": "python",
   "name": "python3"
  },
  "language_info": {
   "codemirror_mode": {
    "name": "ipython",
    "version": 3
   },
   "file_extension": ".py",
   "mimetype": "text/x-python",
   "name": "python",
   "nbconvert_exporter": "python",
   "pygments_lexer": "ipython3",
   "version": "3.8.10"
  },
  "orig_nbformat": 4
 },
 "nbformat": 4,
 "nbformat_minor": 2
}
