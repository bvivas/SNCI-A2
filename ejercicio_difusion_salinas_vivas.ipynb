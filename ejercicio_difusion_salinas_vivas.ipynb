{
 "cells": [
  {
   "attachments": {},
   "cell_type": "markdown",
   "metadata": {},
   "source": [
    "# EJERCICIO DE DIFUSIÓN DE INFORMACIÓN\n",
    "## Redes Sociales, Colaboración en Red\n",
    "\n",
    "**Autores:**  \n",
    "Martín Salinas Antón - martin.salinas@estudiante.uam.es  \n",
    "Belén Vivas García - belen.vivas@estudiante.uam.es"
   ]
  },
  {
   "cell_type": "code",
   "execution_count": 1,
   "metadata": {},
   "outputs": [],
   "source": [
    "import networkx as nx\n",
    "import random\n",
    "import numpy as np"
   ]
  },
  {
   "attachments": {},
   "cell_type": "markdown",
   "metadata": {},
   "source": [
    "### Lectura de Datos"
   ]
  },
  {
   "attachments": {},
   "cell_type": "markdown",
   "metadata": {},
   "source": [
    "En primer lugar, creamos el grafo mediante el fichero."
   ]
  },
  {
   "cell_type": "code",
   "execution_count": 2,
   "metadata": {},
   "outputs": [],
   "source": [
    "G = nx.read_graphml('data/juegoDtronos.graphml')"
   ]
  },
  {
   "attachments": {},
   "cell_type": "markdown",
   "metadata": {},
   "source": [
    "### Normalización de Pesos"
   ]
  },
  {
   "attachments": {},
   "cell_type": "markdown",
   "metadata": {},
   "source": [
    "El primer paso será normalizar los pesos de los vértices del grafo entre 0 y 1 para que el algoritmo los tome como probabilidades."
   ]
  },
  {
   "cell_type": "code",
   "execution_count": 3,
   "metadata": {},
   "outputs": [],
   "source": [
    "# Normalize weights into probabilities\n",
    "weights = []\n",
    "for edge in G.edges(data=True):\n",
    "    # Get weight from graph and add it to the weight list\n",
    "    weight = edge[2]['weight']\n",
    "    weights.append(weight)\n",
    "\n",
    "normalized_weights = []\n",
    "# Get the maximum weight\n",
    "max_weight = max(weights)\n",
    "for w in weights:\n",
    "    # Divide each weight by the maximum to normalize between 0 and 1\n",
    "    w /= max_weight\n",
    "    normalized_weights.append(w)\n",
    "\n",
    "# Get a copy of the graph\n",
    "G_norm = G\n",
    "# Modify the weights\n",
    "i = 0\n",
    "for edge in G_norm.edges(data=True):\n",
    "    edge[2]['weight'] = normalized_weights[i]\n",
    "    i += 1"
   ]
  },
  {
   "attachments": {},
   "cell_type": "markdown",
   "metadata": {},
   "source": [
    "### Algoritmo"
   ]
  },
  {
   "attachments": {},
   "cell_type": "markdown",
   "metadata": {},
   "source": [
    "Implementamos los algoritmos necesarios para maximizar la influencia de la red. La influencia de la red se maximiza seleccionando un grupo de nodos, a los que llamaremos 'semilla', los cuales tienen una influencia suficiente para maximizar la propagación de información.  \n",
    "  \n",
    "La aproximación codiciosa (o greedy) selecciona los nodos con mayor influencia en función de la cantidad de vecinos, utilizando una función f que, en nuestro caso, selecciona el número de nodos que serán finalmente activados teniendo en cuenta los pesos (ahora probabilidades) de los vértices de los nodos."
   ]
  },
  {
   "cell_type": "code",
   "execution_count": 4,
   "metadata": {},
   "outputs": [],
   "source": [
    "# Maximizing the spread of cascades - greedy algorithm\n",
    "def max_spread_cascades_greedy(G, k):\n",
    "\n",
    "    # Set of initially activated nodes\n",
    "    S = set()\n",
    "\n",
    "    # While i =/= k\n",
    "    for _ in range(k):\n",
    "        v = None\n",
    "        max_f = -1\n",
    "\n",
    "        for node in G.nodes():\n",
    "            if node not in S:\n",
    "                # Cascade function taking S U {v}\n",
    "                f = calculate_influence(G, S.union({node}))\n",
    "\n",
    "                # Update maximized f\n",
    "                if f > max_f:\n",
    "                    v = node\n",
    "                    max_f = f\n",
    "\n",
    "        # Add chosen node to the set\n",
    "        # S U {v}\n",
    "        S.add(v)\n",
    "\n",
    "    return S\n",
    "\n",
    "\n",
    "# Gets the number of ultimately activated nodes\n",
    "def calculate_influence(G, S):\n",
    "\n",
    "    # Set of activated nodes\n",
    "    A = S\n",
    "    # Set of neighbors of nodes in S\n",
    "    activable_neighbors = set()\n",
    "\n",
    "    # Add neighbors to the set\n",
    "    for node in S:\n",
    "        activable_neighbors.update(G.neighbors(node))\n",
    "\n",
    "    # While there are still activable neighbors\n",
    "    while activable_neighbors:\n",
    "        # Choose random neighbor\n",
    "        node = random.choice(list(activable_neighbors))\n",
    "\n",
    "        # Activation probability of the node\n",
    "        probability = 1.0\n",
    "        for n in G.neighbors(node):\n",
    "            if n not in A:\n",
    "                if n not in activable_neighbors:\n",
    "                    # Take the node weight (now a probability)\n",
    "                    weight = G[node][n]['weight']\n",
    "                    probability *= (1 - weight)\n",
    "\n",
    "        # Activation\n",
    "        if np.random.rand() < probability:\n",
    "            # Add activated node\n",
    "            A.add(node)\n",
    "            # Add neighbors of activated node\n",
    "            for n in G.neighbors(node):\n",
    "                if n not in A:\n",
    "                    activable_neighbors.add(n)\n",
    "\n",
    "        # Update neighbors\n",
    "        activable_neighbors.remove(node)\n",
    "\n",
    "    return len(A)"
   ]
  },
  {
   "attachments": {},
   "cell_type": "markdown",
   "metadata": {},
   "source": [
    "Establecemos k (budget) y ejecutamos el algoritmo para obtener la semilla."
   ]
  },
  {
   "cell_type": "code",
   "execution_count": 5,
   "metadata": {},
   "outputs": [
    {
     "name": "stdout",
     "output_type": "stream",
     "text": [
      "Seed\n",
      "------------------\n",
      "Budget (k) = 15\n",
      "------------------\n",
      "Kevan-Lannister\n",
      "Gyles-Rosby\n",
      "Jalabhar-Xho\n",
      "Walder-Frey\n",
      "Brynden-Tully\n",
      "Jaime-Lannister\n",
      "Addam-Marbrand\n",
      "Joffrey-Baratheon\n",
      "Cersei-Lannister\n",
      "Tyrion-Lannister\n",
      "Lyle-Crakehall\n",
      "Oberyn-Martell\n",
      "Tywin-Lannister\n",
      "Varys\n",
      "Catelyn-Stark\n",
      "-------------------\n"
     ]
    }
   ],
   "source": [
    "# Set budget\n",
    "k = 15\n",
    "# Get seed\n",
    "seed = max_spread_cascades_greedy(G_norm, k)\n",
    "\n",
    "# Print results\n",
    "print('Seed\\n------------------\\nBudget (k) = {}\\n------------------'.format(k))\n",
    "for s in seed:\n",
    "    print(s)\n",
    "print('-------------------')"
   ]
  }
 ],
 "metadata": {
  "kernelspec": {
   "display_name": "Python 3",
   "language": "python",
   "name": "python3"
  },
  "language_info": {
   "codemirror_mode": {
    "name": "ipython",
    "version": 3
   },
   "file_extension": ".py",
   "mimetype": "text/x-python",
   "name": "python",
   "nbconvert_exporter": "python",
   "pygments_lexer": "ipython3",
   "version": "3.8.10"
  },
  "orig_nbformat": 4
 },
 "nbformat": 4,
 "nbformat_minor": 2
}
